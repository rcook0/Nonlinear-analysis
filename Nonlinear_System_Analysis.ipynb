{
 "cells": [
  {
   "cell_type": "markdown",
   "id": "000af737",
   "metadata": {},
   "source": [
    "# Upgraded Nonlinear System Analysis\n",
    "Interactive notebook for 2D/3D nonlinear systems with multiple Lyapunov functions, bifurcation sweeps, and sliders."
   ]
  },
  {
   "cell_type": "markdown",
   "id": "d0c7da77",
   "metadata": {},
   "source": [
    "## 1. User Inputs\n",
    "Set system type, parameters, initial conditions, and choose equations."
   ]
  },
  {
   "cell_type": "code",
   "execution_count": null,
   "id": "481157bb",
   "metadata": {},
   "outputs": [],
   "source": [
    "\n",
    "import numpy as np\n",
    "import matplotlib.pyplot as plt\n",
    "from scipy.integrate import solve_ivp\n",
    "from ipywidgets import interact, FloatSlider, IntSlider\n",
    "\n",
    "# --- System Type ---\n",
    "system_type = '2D'  # '2D' or '3D'\n",
    "\n",
    "# --- Parameters ---\n",
    "alpha = 1.1\n",
    "beta = 0.4\n",
    "delta = 0.1\n",
    "gamma = 0.4\n",
    "\n",
    "# --- Initial Conditions ---\n",
    "initial_conditions_2D = [(5,2),(10,5),(15,10)]\n",
    "initial_conditions_3D = [(5,2,1),(10,5,3)]\n",
    "\n",
    "# --- System Equations ---\n",
    "def system_2D(t, z, alpha, beta, delta, gamma):\n",
    "    x, y = z\n",
    "    dxdt = alpha*x - beta*x*y\n",
    "    dydt = delta*x*y - gamma*y\n",
    "    return [dxdt, dydt]\n",
    "\n",
    "def system_3D(t, z, alpha, beta, delta, gamma):\n",
    "    x, y, z_var = z\n",
    "    dxdt = alpha*x - beta*x*y\n",
    "    dydt = delta*x*y - gamma*y\n",
    "    dzdt = -0.1*z_var + 0.05*x*y  # example extra equation\n",
    "    return [dxdt, dydt, dzdt]\n"
   ]
  },
  {
   "cell_type": "markdown",
   "id": "e5003e66",
   "metadata": {},
   "source": [
    "## 2. Fixed Points & Stability\n",
    "Compute equilibria and Jacobian eigenvalues for stability."
   ]
  },
  {
   "cell_type": "code",
   "execution_count": null,
   "id": "b56f43ae",
   "metadata": {},
   "outputs": [],
   "source": [
    "\n",
    "# Example fixed points for 2D Lotka-Volterra\n",
    "x_star = gamma/delta\n",
    "y_star = alpha/beta\n",
    "print(f'2D fixed point: ({x_star}, {y_star})')\n",
    "\n",
    "# Jacobian\n",
    "J = np.array([[alpha - beta*y_star, -beta*x_star],\n",
    "              [delta*y_star, delta*x_star - gamma]])\n",
    "eigvals = np.linalg.eigvals(J)\n",
    "print('Eigenvalues:', eigvals)\n"
   ]
  },
  {
   "cell_type": "markdown",
   "id": "0b142bef",
   "metadata": {},
   "source": [
    "## 3. Multiple Lyapunov Functions\n",
    "Define multiple candidate functions and plot level sets."
   ]
  },
  {
   "cell_type": "code",
   "execution_count": null,
   "id": "56c1f1e8",
   "metadata": {},
   "outputs": [],
   "source": [
    "\n",
    "x_vals = np.linspace(0.1, 2*x_star, 200)\n",
    "y_vals = np.linspace(0.1, 2*y_star, 200)\n",
    "X, Y = np.meshgrid(x_vals, y_vals)\n",
    "\n",
    "V1 = delta*(X - x_star - x_star*np.log(X/x_star)) + beta*(Y - y_star - y_star*np.log(Y/y_star))\n",
    "V2 = 0.5*(X-x_star)**2 + 0.3*(Y-y_star)**2\n",
    "\n",
    "plt.figure(figsize=(7,5))\n",
    "plt.contourf(X, Y, V1, levels=50, cmap='viridis')\n",
    "plt.contour(X, Y, V2, levels=20, colors='red')\n",
    "plt.plot(x_star, y_star, 'ro', label='Fixed Point')\n",
    "plt.xlabel('x'); plt.ylabel('y'); plt.title('Lyapunov Functions V1 (filled) & V2 (contours)')\n",
    "plt.legend(); plt.show()\n"
   ]
  },
  {
   "cell_type": "markdown",
   "id": "486cf972",
   "metadata": {},
   "source": [
    "## 4. Phase Portrait & Vector Field\n",
    "Interactive plot with sliders for initial conditions."
   ]
  },
  {
   "cell_type": "code",
   "execution_count": null,
   "id": "b8ac4d9e",
   "metadata": {},
   "outputs": [],
   "source": [
    "\n",
    "def plot_phase(alpha_val, beta_val):\n",
    "    x_vals = np.linspace(0, 2*x_star, 20)\n",
    "    y_vals = np.linspace(0, 2*y_star, 20)\n",
    "    X, Y = np.meshgrid(x_vals, y_vals)\n",
    "    U = alpha_val*X - beta_val*X*Y\n",
    "    V_field = delta*X*Y - gamma*Y\n",
    "    plt.figure(figsize=(7,6))\n",
    "    plt.quiver(X, Y, U, V_field, color='gray')\n",
    "    t_span = (0,50)\n",
    "    for ic in initial_conditions_2D:\n",
    "        sol = solve_ivp(system_2D, t_span, ic, args=(alpha_val, beta_val, delta, gamma), t_eval=np.linspace(*t_span,500))\n",
    "        plt.plot(sol.y[0], sol.y[1], label=f'IC {ic}')\n",
    "    plt.xlabel('x'); plt.ylabel('y'); plt.title('Phase Portrait with Vector Field')\n",
    "    plt.grid(True); plt.legend(); plt.show()\n",
    "\n",
    "interact(plot_phase, alpha_val=FloatSlider(min=0.1,max=2,value=alpha,step=0.05),\n",
    "                     beta_val=FloatSlider(min=0.1,max=1,value=beta,step=0.05))\n"
   ]
  },
  {
   "cell_type": "markdown",
   "id": "04c11368",
   "metadata": {},
   "source": [
    "## 5. Automatic Bifurcation Sweep\n",
    "Sweep alpha to see how y* changes automatically."
   ]
  },
  {
   "cell_type": "code",
   "execution_count": null,
   "id": "6827cd3e",
   "metadata": {},
   "outputs": [],
   "source": [
    "\n",
    "alphas = np.linspace(0.1,2,100)\n",
    "y_fp = alphas / beta\n",
    "plt.figure(figsize=(8,5))\n",
    "plt.plot(alphas, y_fp, label='y* vs alpha')\n",
    "plt.xlabel('alpha'); plt.ylabel('y*'); plt.title('Automatic Bifurcation Sweep')\n",
    "plt.grid(True); plt.legend(); plt.show()\n"
   ]
  },
  {
   "cell_type": "markdown",
   "id": "7a0bf9a2",
   "metadata": {},
   "source": [
    "## 6. Optional Export\n",
    "You can save trajectory data, Lyapunov surfaces, or plots using np.savetxt or plt.savefig()."
   ]
  }
 ],
 "metadata": {},
 "nbformat": 4,
 "nbformat_minor": 5
}
